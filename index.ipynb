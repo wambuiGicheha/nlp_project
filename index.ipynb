{
 "cells": [
  {
   "cell_type": "markdown",
   "metadata": {},
   "source": [
    "\n",
    "### Business problem \n",
    "The business seeks to understand public sentiment regarding Apple and Google products based on social media discussions. Analyzing sentiment on platforms like Twitter can provide actionable insights into customer preferences, satisfaction, and concerns. To address this, an NLP model must be developed to automatically classify the sentiment (positive, negative, or neutral) in Tweets mentioning these products. The model aims to streamline sentiment analysis, reducing manual effort, and enabling timely responses to market trends and customer feedback, ultimately improving product marketing and customer engagement strategies.\n",
    "\n",
    "### Objectives \n",
    "1. To develop a model to classify tweets as positive, negative, or neutral regardingg Apple and Google products.\n",
    "2. To optimize the model to achieve high accuracy and precision in sentiment predictions.\n",
    "3. To ensure the model can be adapted for sentiment analysis of other brands or products in the future.\n",
    "\n",
    "### Key stakeholders\n",
    "1. Data Scientists\n",
    "2. Product Managers\n",
    "3. Marketing teams\n",
    "4. Executive and Decision Makers\n",
    "\n",
    "### Data understanding\n",
    "The data being used in this project consists of over 9,000 Tweets about Apple and Google products, which have been labeled by human raters as positive, negative, or neutral. This dataset is well-suited for the business problem because it reflects real user opinions and interactions on social media, providing valuable insight into how customers feel about these products. The labeled sentiment in each tweet offers a solid foundation for building and training a model to automatically classify sentiment, aligning with the goal of improving sentiment analysis automation.\n",
    "\n",
    "The context for implementing the solution involves leveraging sentiment analysis to gain insights into public perception of Apple and Google products through Twitter data. The model will analyze tweets rated as positive, negative, or neutral, providing stakeholders with valuable information on consumer attitudes. This can inform marketing strategies, product improvements, and customer engagement initiatives, helping the companies understand their brand reputation and customer satisfaction levels. The insights derived from the model will aid in decision-making processes and strategic planning.\n"
   ]
  },
  {
   "cell_type": "code",
   "execution_count": 64,
   "metadata": {},
   "outputs": [
    {
     "name": "stderr",
     "output_type": "stream",
     "text": [
      "[nltk_data] Downloading package stopwords to\n",
      "[nltk_data]     C:\\Users\\GICHEHA\\AppData\\Roaming\\nltk_data...\n",
      "[nltk_data]   Package stopwords is already up-to-date!\n",
      "[nltk_data] Downloading package wordnet to\n",
      "[nltk_data]     C:\\Users\\GICHEHA\\AppData\\Roaming\\nltk_data...\n",
      "[nltk_data]   Package wordnet is already up-to-date!\n"
     ]
    },
    {
     "data": {
      "text/plain": [
       "True"
      ]
     },
     "execution_count": 64,
     "metadata": {},
     "output_type": "execute_result"
    }
   ],
   "source": [
    "#libraries and packages to use\n",
    "\n",
    "import pandas as pd\n",
    "import re\n",
    "import numpy as np\n",
    "from mpl_toolkits.mplot3d import Axes3D\n",
    "import matplotlib.pyplot as plt\n",
    "%matplotlib inline\n",
    "from sklearn.manifold import TSNE\n",
    "from nltk.tokenize import word_tokenize\n",
    "import nltk\n",
    "nltk.download('punkt', quiet=True)\n",
    "np.random.seed(0)\n",
    "\n",
    "from nltk.corpus import stopwords\n",
    "from nltk.stem import PorterStemmer, WordNetLemmatizer\n",
    "from sklearn.base import BaseEstimator, TransformerMixin\n",
    "from sklearn.pipeline import Pipeline\n",
    "from sklearn.feature_extraction.text import CountVectorizer\n",
    "\n",
    "#download nltk resources\n",
    "nltk.download('stopwords')\n",
    "nltk.download('wordnet')"
   ]
  },
  {
   "cell_type": "code",
   "execution_count": 65,
   "metadata": {},
   "outputs": [
    {
     "data": {
      "text/html": [
       "<div>\n",
       "<style scoped>\n",
       "    .dataframe tbody tr th:only-of-type {\n",
       "        vertical-align: middle;\n",
       "    }\n",
       "\n",
       "    .dataframe tbody tr th {\n",
       "        vertical-align: top;\n",
       "    }\n",
       "\n",
       "    .dataframe thead th {\n",
       "        text-align: right;\n",
       "    }\n",
       "</style>\n",
       "<table border=\"1\" class=\"dataframe\">\n",
       "  <thead>\n",
       "    <tr style=\"text-align: right;\">\n",
       "      <th></th>\n",
       "      <th>tweet_content</th>\n",
       "      <th>product</th>\n",
       "      <th>Emotion_result</th>\n",
       "    </tr>\n",
       "  </thead>\n",
       "  <tbody>\n",
       "    <tr>\n",
       "      <th>0</th>\n",
       "      <td>.@wesley83 I have a 3G iPhone. After 3 hrs twe...</td>\n",
       "      <td>iPhone</td>\n",
       "      <td>Negative emotion</td>\n",
       "    </tr>\n",
       "    <tr>\n",
       "      <th>1</th>\n",
       "      <td>@jessedee Know about @fludapp ? Awesome iPad/i...</td>\n",
       "      <td>iPad or iPhone App</td>\n",
       "      <td>Positive emotion</td>\n",
       "    </tr>\n",
       "    <tr>\n",
       "      <th>2</th>\n",
       "      <td>@swonderlin Can not wait for #iPad 2 also. The...</td>\n",
       "      <td>iPad</td>\n",
       "      <td>Positive emotion</td>\n",
       "    </tr>\n",
       "    <tr>\n",
       "      <th>3</th>\n",
       "      <td>@sxsw I hope this year's festival isn't as cra...</td>\n",
       "      <td>iPad or iPhone App</td>\n",
       "      <td>Negative emotion</td>\n",
       "    </tr>\n",
       "    <tr>\n",
       "      <th>4</th>\n",
       "      <td>@sxtxstate great stuff on Fri #SXSW: Marissa M...</td>\n",
       "      <td>Google</td>\n",
       "      <td>Positive emotion</td>\n",
       "    </tr>\n",
       "    <tr>\n",
       "      <th>5</th>\n",
       "      <td>@teachntech00 New iPad Apps For #SpeechTherapy...</td>\n",
       "      <td>NaN</td>\n",
       "      <td>No emotion toward brand or product</td>\n",
       "    </tr>\n",
       "    <tr>\n",
       "      <th>6</th>\n",
       "      <td>NaN</td>\n",
       "      <td>NaN</td>\n",
       "      <td>No emotion toward brand or product</td>\n",
       "    </tr>\n",
       "    <tr>\n",
       "      <th>7</th>\n",
       "      <td>#SXSW is just starting, #CTIA is around the co...</td>\n",
       "      <td>Android</td>\n",
       "      <td>Positive emotion</td>\n",
       "    </tr>\n",
       "    <tr>\n",
       "      <th>8</th>\n",
       "      <td>Beautifully smart and simple idea RT @madebyma...</td>\n",
       "      <td>iPad or iPhone App</td>\n",
       "      <td>Positive emotion</td>\n",
       "    </tr>\n",
       "    <tr>\n",
       "      <th>9</th>\n",
       "      <td>Counting down the days to #sxsw plus strong Ca...</td>\n",
       "      <td>Apple</td>\n",
       "      <td>Positive emotion</td>\n",
       "    </tr>\n",
       "    <tr>\n",
       "      <th>10</th>\n",
       "      <td>Excited to meet the @samsungmobileus at #sxsw ...</td>\n",
       "      <td>Android</td>\n",
       "      <td>Positive emotion</td>\n",
       "    </tr>\n",
       "    <tr>\n",
       "      <th>11</th>\n",
       "      <td>Find &amp;amp; Start Impromptu Parties at #SXSW Wi...</td>\n",
       "      <td>Android App</td>\n",
       "      <td>Positive emotion</td>\n",
       "    </tr>\n",
       "    <tr>\n",
       "      <th>12</th>\n",
       "      <td>Foursquare ups the game, just in time for #SXS...</td>\n",
       "      <td>Android App</td>\n",
       "      <td>Positive emotion</td>\n",
       "    </tr>\n",
       "    <tr>\n",
       "      <th>13</th>\n",
       "      <td>Gotta love this #SXSW Google Calendar featurin...</td>\n",
       "      <td>Other Google product or service</td>\n",
       "      <td>Positive emotion</td>\n",
       "    </tr>\n",
       "    <tr>\n",
       "      <th>14</th>\n",
       "      <td>Great #sxsw ipad app from @madebymany: http://...</td>\n",
       "      <td>iPad or iPhone App</td>\n",
       "      <td>Positive emotion</td>\n",
       "    </tr>\n",
       "    <tr>\n",
       "      <th>15</th>\n",
       "      <td>haha, awesomely rad iPad app by @madebymany ht...</td>\n",
       "      <td>iPad or iPhone App</td>\n",
       "      <td>Positive emotion</td>\n",
       "    </tr>\n",
       "    <tr>\n",
       "      <th>16</th>\n",
       "      <td>Holler Gram for iPad on the iTunes App Store -...</td>\n",
       "      <td>NaN</td>\n",
       "      <td>No emotion toward brand or product</td>\n",
       "    </tr>\n",
       "    <tr>\n",
       "      <th>17</th>\n",
       "      <td>I just noticed DST is coming this weekend. How...</td>\n",
       "      <td>iPhone</td>\n",
       "      <td>Negative emotion</td>\n",
       "    </tr>\n",
       "    <tr>\n",
       "      <th>18</th>\n",
       "      <td>Just added my #SXSW flights to @planely. Match...</td>\n",
       "      <td>iPad or iPhone App</td>\n",
       "      <td>Positive emotion</td>\n",
       "    </tr>\n",
       "    <tr>\n",
       "      <th>19</th>\n",
       "      <td>Must have #SXSW app! RT @malbonster: Lovely re...</td>\n",
       "      <td>iPad or iPhone App</td>\n",
       "      <td>Positive emotion</td>\n",
       "    </tr>\n",
       "  </tbody>\n",
       "</table>\n",
       "</div>"
      ],
      "text/plain": [
       "                                        tweet_content  \\\n",
       "0   .@wesley83 I have a 3G iPhone. After 3 hrs twe...   \n",
       "1   @jessedee Know about @fludapp ? Awesome iPad/i...   \n",
       "2   @swonderlin Can not wait for #iPad 2 also. The...   \n",
       "3   @sxsw I hope this year's festival isn't as cra...   \n",
       "4   @sxtxstate great stuff on Fri #SXSW: Marissa M...   \n",
       "5   @teachntech00 New iPad Apps For #SpeechTherapy...   \n",
       "6                                                 NaN   \n",
       "7   #SXSW is just starting, #CTIA is around the co...   \n",
       "8   Beautifully smart and simple idea RT @madebyma...   \n",
       "9   Counting down the days to #sxsw plus strong Ca...   \n",
       "10  Excited to meet the @samsungmobileus at #sxsw ...   \n",
       "11  Find &amp; Start Impromptu Parties at #SXSW Wi...   \n",
       "12  Foursquare ups the game, just in time for #SXS...   \n",
       "13  Gotta love this #SXSW Google Calendar featurin...   \n",
       "14  Great #sxsw ipad app from @madebymany: http://...   \n",
       "15  haha, awesomely rad iPad app by @madebymany ht...   \n",
       "16  Holler Gram for iPad on the iTunes App Store -...   \n",
       "17  I just noticed DST is coming this weekend. How...   \n",
       "18  Just added my #SXSW flights to @planely. Match...   \n",
       "19  Must have #SXSW app! RT @malbonster: Lovely re...   \n",
       "\n",
       "                            product                      Emotion_result  \n",
       "0                            iPhone                    Negative emotion  \n",
       "1                iPad or iPhone App                    Positive emotion  \n",
       "2                              iPad                    Positive emotion  \n",
       "3                iPad or iPhone App                    Negative emotion  \n",
       "4                            Google                    Positive emotion  \n",
       "5                               NaN  No emotion toward brand or product  \n",
       "6                               NaN  No emotion toward brand or product  \n",
       "7                           Android                    Positive emotion  \n",
       "8                iPad or iPhone App                    Positive emotion  \n",
       "9                             Apple                    Positive emotion  \n",
       "10                          Android                    Positive emotion  \n",
       "11                      Android App                    Positive emotion  \n",
       "12                      Android App                    Positive emotion  \n",
       "13  Other Google product or service                    Positive emotion  \n",
       "14               iPad or iPhone App                    Positive emotion  \n",
       "15               iPad or iPhone App                    Positive emotion  \n",
       "16                              NaN  No emotion toward brand or product  \n",
       "17                           iPhone                    Negative emotion  \n",
       "18               iPad or iPhone App                    Positive emotion  \n",
       "19               iPad or iPhone App                    Positive emotion  "
      ]
     },
     "execution_count": 65,
     "metadata": {},
     "output_type": "execute_result"
    }
   ],
   "source": [
    "#load the data\n",
    "sentiments = pd.read_csv(\"Data/tweet_product_company.csv\", encoding='ISO-8859-1')\n",
    "\n",
    "\n",
    "#rename column names \n",
    "# Define new column names\n",
    "new_column_names = {\n",
    "    'tweet_text': 'tweet_content',\n",
    "    'emotion_in_tweet_is_directed_at': 'product',\n",
    "    'is_there_an_emotion_directed_at_a_brand_or_product': 'Emotion_result'\n",
    "}\n",
    "\n",
    "# Rename columns\n",
    "sentiments.rename(columns=new_column_names, inplace=True)\n",
    "\n",
    "# Display the updated DataFrame\n",
    "sentiments.head(20)"
   ]
  },
  {
   "cell_type": "code",
   "execution_count": 66,
   "metadata": {},
   "outputs": [
    {
     "data": {
      "text/html": [
       "<div>\n",
       "<style scoped>\n",
       "    .dataframe tbody tr th:only-of-type {\n",
       "        vertical-align: middle;\n",
       "    }\n",
       "\n",
       "    .dataframe tbody tr th {\n",
       "        vertical-align: top;\n",
       "    }\n",
       "\n",
       "    .dataframe thead th {\n",
       "        text-align: right;\n",
       "    }\n",
       "</style>\n",
       "<table border=\"1\" class=\"dataframe\">\n",
       "  <thead>\n",
       "    <tr style=\"text-align: right;\">\n",
       "      <th></th>\n",
       "      <th>tweet_content</th>\n",
       "      <th>product</th>\n",
       "      <th>Emotion_result</th>\n",
       "    </tr>\n",
       "  </thead>\n",
       "  <tbody>\n",
       "    <tr>\n",
       "      <th>count</th>\n",
       "      <td>9092</td>\n",
       "      <td>3291</td>\n",
       "      <td>9093</td>\n",
       "    </tr>\n",
       "    <tr>\n",
       "      <th>unique</th>\n",
       "      <td>9065</td>\n",
       "      <td>9</td>\n",
       "      <td>4</td>\n",
       "    </tr>\n",
       "    <tr>\n",
       "      <th>top</th>\n",
       "      <td>RT @mention Marissa Mayer: Google Will Connect...</td>\n",
       "      <td>iPad</td>\n",
       "      <td>No emotion toward brand or product</td>\n",
       "    </tr>\n",
       "    <tr>\n",
       "      <th>freq</th>\n",
       "      <td>5</td>\n",
       "      <td>946</td>\n",
       "      <td>5389</td>\n",
       "    </tr>\n",
       "  </tbody>\n",
       "</table>\n",
       "</div>"
      ],
      "text/plain": [
       "                                            tweet_content product  \\\n",
       "count                                                9092    3291   \n",
       "unique                                               9065       9   \n",
       "top     RT @mention Marissa Mayer: Google Will Connect...    iPad   \n",
       "freq                                                    5     946   \n",
       "\n",
       "                            Emotion_result  \n",
       "count                                 9093  \n",
       "unique                                   4  \n",
       "top     No emotion toward brand or product  \n",
       "freq                                  5389  "
      ]
     },
     "execution_count": 66,
     "metadata": {},
     "output_type": "execute_result"
    }
   ],
   "source": [
    "sentiments.describe()"
   ]
  },
  {
   "cell_type": "code",
   "execution_count": 67,
   "metadata": {},
   "outputs": [
    {
     "data": {
      "text/plain": [
       "tweet_content      0.010997\n",
       "product           63.807324\n",
       "Emotion_result     0.000000\n",
       "dtype: float64"
      ]
     },
     "execution_count": 67,
     "metadata": {},
     "output_type": "execute_result"
    }
   ],
   "source": [
    "\n",
    "# Calculate percentage of missing values\n",
    "missing_percentage = sentiments.isna().sum() / len(sentiments) * 100\n",
    "missing_percentage"
   ]
  },
  {
   "cell_type": "code",
   "execution_count": 68,
   "metadata": {},
   "outputs": [
    {
     "data": {
      "text/plain": [
       "array(['iPhone', 'iPad or iPhone App', 'iPad', 'Google', nan, 'Android',\n",
       "       'Apple', 'Android App', 'Other Google product or service',\n",
       "       'Other Apple product or service'], dtype=object)"
      ]
     },
     "execution_count": 68,
     "metadata": {},
     "output_type": "execute_result"
    }
   ],
   "source": [
    "sentiments[\"product\"].unique()"
   ]
  },
  {
   "cell_type": "code",
   "execution_count": 69,
   "metadata": {},
   "outputs": [
    {
     "data": {
      "text/plain": [
       "0    iPad\n",
       "dtype: object"
      ]
     },
     "execution_count": 69,
     "metadata": {},
     "output_type": "execute_result"
    }
   ],
   "source": [
    "sentiments[\"product\"].mode()"
   ]
  },
  {
   "cell_type": "code",
   "execution_count": 70,
   "metadata": {},
   "outputs": [],
   "source": [
    "# I want to impute the missing values in the product columns using the tweet comments key words\n",
    "\n",
    "# Loop through each row to check the content and impute missing product values\n",
    "for index, row in sentiments.iterrows():\n",
    "    tweet_content = row['tweet_content']\n",
    "    if pd.isnull(row['product']):\n",
    "        if isinstance(tweet_content, str):\n",
    "            if 'itunes' in tweet_content.lower() or 'ipad' in tweet_content.lower() or 'iphone' in tweet_content.lower():\n",
    "                sentiments.at[index, 'product'] = 'iPad or iPhone App'\n",
    "            elif 'google' in tweet_content.lower() or 'android' in tweet_content.lower():\n",
    "                sentiments.at[index, 'product'] = 'Android'\n",
    "            else:\n",
    "                sentiments.at[index, 'product'] = 'Other Product'\n"
   ]
  },
  {
   "cell_type": "code",
   "execution_count": 71,
   "metadata": {},
   "outputs": [
    {
     "data": {
      "text/plain": [
       "tweet_content     1\n",
       "product           1\n",
       "Emotion_result    0\n",
       "dtype: int64"
      ]
     },
     "execution_count": 71,
     "metadata": {},
     "output_type": "execute_result"
    }
   ],
   "source": [
    "# Calculate percentage of missing values\n",
    "missing_percentage = sentiments.isna().sum() \n",
    "missing_percentage"
   ]
  },
  {
   "cell_type": "code",
   "execution_count": 72,
   "metadata": {},
   "outputs": [
    {
     "data": {
      "text/plain": [
       "tweet_content     0\n",
       "product           0\n",
       "Emotion_result    0\n",
       "dtype: int64"
      ]
     },
     "execution_count": 72,
     "metadata": {},
     "output_type": "execute_result"
    }
   ],
   "source": [
    "#delete the null row \n",
    "sentiments = sentiments.dropna(subset=['tweet_content', 'product'])\n",
    "# Calculate percentage of missing values\n",
    "missing_percentage = sentiments.isna().sum() \n",
    "missing_percentage\n"
   ]
  },
  {
   "cell_type": "markdown",
   "metadata": {},
   "source": [
    "## Data preparation\n",
    "\n",
    "why did you choose the data preparation steps that you did, and what was the result?\n",
    "such as feature engineering, using pipelines, or using unsupervised techniques\n",
    "Goes above and beyond with data preparation, such as feature engineering, using pipelines, or using unsupervised techniques\n",
    "\n",
    "Supervised learning is the core of this project, but feel free to use unsupervised techniques for data analysis or preparation\n",
    "\n",
    "Data Preprocessing\n",
    "1. Tokenize the text (split into words/sentences).\n",
    "2. Convert to lowercase, remove numbers, handle contractions.\n",
    "3. Stemming/lemmatization to reduce words to their base forms.\n",
    "4. Handle stop words and rare words.\n",
    "\n",
    "Feature Engineering\n",
    "\n",
    "Use techniques like TF-IDF, Bag-of-Words, Word2Vec, or FastText for converting text into numerical features.\n",
    "\n",
    "Consider word embeddings or transformers if working with more complex NLP tasks.\n",
    "\n",
    "Preprocessing: NLTK"
   ]
  },
  {
   "cell_type": "code",
   "execution_count": 73,
   "metadata": {},
   "outputs": [
    {
     "name": "stdout",
     "output_type": "stream",
     "text": [
      "Feature Names: ['android' 'best' 'google' 'iphone' 'love']\n",
      "  (0, 3)\t1\n",
      "  (0, 4)\t1\n",
      "  (1, 2)\t1\n",
      "  (1, 1)\t1\n",
      "  (1, 0)\t1\n"
     ]
    }
   ],
   "source": [
    "class TextPreprocessor(BaseEstimator, TransformerMixin):\n",
    "    def __init__(self, use_stemming=False):\n",
    "        self.use_stemming = use_stemming\n",
    "        self.stop_words = set(stopwords.words('english'))\n",
    "        self.stemmer = PorterStemmer() if use_stemming else None\n",
    "        self.lemmatizer = WordNetLemmatizer() if not use_stemming else None\n",
    "    \n",
    "    def clean_text(self, text):\n",
    "        text = text.lower()\n",
    "        text = re.sub(r'\\d+', '', text)\n",
    "        text = re.sub(r'[^\\w\\s]', '', text)\n",
    "        words = text.split()\n",
    "        words = [word for word in words if word not in self.stop_words]\n",
    "        return words\n",
    "\n",
    "    def stem_or_lem(self, words):\n",
    "        if self.use_stemming:\n",
    "            return [self.stemmer.stem(word) for word in words]\n",
    "        else:\n",
    "            return [self.lemmatizer.lemmatize(word) for word in words]\n",
    "    \n",
    "    def fit(self, X, y=None):\n",
    "        return self\n",
    "    \n",
    "    def transform(self, X):\n",
    "        cleaned_data = [self.clean_text(text) for text in X]\n",
    "        processed_data = [' '.join(self.stem_or_lem(words)) for words in cleaned_data]\n",
    "        return processed_data\n",
    "\n",
    "# Create the pipeline\n",
    "text_pipeline = Pipeline([\n",
    "    ('preprocessor', TextPreprocessor(use_stemming=False)),\n",
    "    ('vectorizer', CountVectorizer())\n",
    "])\n",
    "\n",
    "# Example of applying the pipeline on a dataset\n",
    "data = ['I have an iPhone and I love it!', 'Google is the best for Android.']\n",
    "transformed_data = text_pipeline.fit_transform(data)\n",
    "\n",
    "# Retrieve and print the feature names\n",
    "vocab = text_pipeline.named_steps['vectorizer'].get_feature_names_out()\n",
    "print(\"Feature Names:\", vocab)\n",
    "\n",
    "# Output the transformed data\n",
    "print(transformed_data)"
   ]
  },
  {
   "cell_type": "code",
   "execution_count": 81,
   "metadata": {},
   "outputs": [
    {
     "data": {
      "text/html": [
       "<div>\n",
       "<style scoped>\n",
       "    .dataframe tbody tr th:only-of-type {\n",
       "        vertical-align: middle;\n",
       "    }\n",
       "\n",
       "    .dataframe tbody tr th {\n",
       "        vertical-align: top;\n",
       "    }\n",
       "\n",
       "    .dataframe thead th {\n",
       "        text-align: right;\n",
       "    }\n",
       "</style>\n",
       "<table border=\"1\" class=\"dataframe\">\n",
       "  <thead>\n",
       "    <tr style=\"text-align: right;\">\n",
       "      <th></th>\n",
       "      <th>original_tweet</th>\n",
       "      <th>android</th>\n",
       "      <th>best</th>\n",
       "      <th>google</th>\n",
       "      <th>iphone</th>\n",
       "      <th>love</th>\n",
       "    </tr>\n",
       "  </thead>\n",
       "  <tbody>\n",
       "    <tr>\n",
       "      <th>0</th>\n",
       "      <td>.@wesley83 I have a 3G iPhone. After 3 hrs twe...</td>\n",
       "      <td>0</td>\n",
       "      <td>0</td>\n",
       "      <td>0</td>\n",
       "      <td>1</td>\n",
       "      <td>1</td>\n",
       "    </tr>\n",
       "    <tr>\n",
       "      <th>1</th>\n",
       "      <td>@jessedee Know about @fludapp ? Awesome iPad/i...</td>\n",
       "      <td>1</td>\n",
       "      <td>1</td>\n",
       "      <td>1</td>\n",
       "      <td>0</td>\n",
       "      <td>0</td>\n",
       "    </tr>\n",
       "  </tbody>\n",
       "</table>\n",
       "</div>"
      ],
      "text/plain": [
       "                                      original_tweet  android  best  google  \\\n",
       "0  .@wesley83 I have a 3G iPhone. After 3 hrs twe...        0     0       0   \n",
       "1  @jessedee Know about @fludapp ? Awesome iPad/i...        1     1       1   \n",
       "\n",
       "   iphone  love  \n",
       "0       1     1  \n",
       "1       0     0  "
      ]
     },
     "execution_count": 81,
     "metadata": {},
     "output_type": "execute_result"
    }
   ],
   "source": [
    "# Get feature names from the vectorizer\n",
    "feature_names = text_pipeline.named_steps['vectorizer'].get_feature_names_out()\n",
    "dense = transformed_data.todense()\n",
    "transformed_df = pd.DataFrame(dense, columns=feature_names)\n",
    "\n",
    "# Add the original dataset's tweet content to the DataFrame\n",
    "transformed_df['original_tweet'] = sentiments['tweet_content'].reset_index(drop=True)\n",
    "\n",
    "# Reorder the columns to see the original text first\n",
    "transformed_df = transformed_df[['original_tweet'] + list(feature_names)]\n",
    "\n",
    "# Display the transformed DataFrame\n",
    "transformed_df.head()\n"
   ]
  },
  {
   "cell_type": "code",
   "execution_count": 74,
   "metadata": {},
   "outputs": [
    {
     "name": "stdout",
     "output_type": "stream",
     "text": [
      "Word Frequency Analysis:\n",
      "love       1\n",
      "iphone     1\n",
      "google     1\n",
      "best       1\n",
      "android    1\n",
      "dtype: int64\n"
     ]
    },
    {
     "data": {
      "image/png": "[encoded data removed]",
      "text/plain": [
       "<Figure size 432x288 with 1 Axes>"
      ]
     },
     "metadata": {
      "needs_background": "light"
     },
     "output_type": "display_data"
    }
   ],
   "source": [
    "\n",
    "\n",
    "# transformed_data` is the output from the pipeline\n",
    "# `feature_names` contains the names of the features\n",
    "feature_names = text_pipeline.named_steps['vectorizer'].get_feature_names_out()\n",
    "dense = transformed_data.todense()\n",
    "df = pd.DataFrame(dense, columns=feature_names)\n",
    "\n",
    "# Get the sum of each feature (word frequency)\n",
    "word_counts = df.sum().sort_values(ascending=False)\n",
    "\n",
    "# Display the most significant words\n",
    "print(\"Word Frequency Analysis:\")\n",
    "print(word_counts)\n",
    "\n",
    "# Optional: Visualize the most significant words\n",
    "import matplotlib.pyplot as plt\n",
    "\n",
    "word_counts.head(10).plot(kind='barh', color='skyblue')\n",
    "plt.title('Top 10 Significant Words')\n",
    "plt.xlabel('Frequency')\n",
    "plt.ylabel('Words')\n",
    "plt.show()\n"
   ]
  },
  {
   "cell_type": "markdown",
   "metadata": {},
   "source": [
    "## Modeling\n",
    "what modeling package(s) did you use, which model(s) within the package(s), and what tuning steps did you take?\n",
    "Goes above and beyond in the modeling process, such as using models from multiple different packages and different model explainability tools\n",
    "\n",
    " Model Selection\n",
    "\n",
    "Choose a machine learning model (e.g., Naive Bayes, SVM, Logistic Regression) or a deep learning model (e.g., LSTM, BERT).\n",
    "\n",
    "For more advanced tasks, explore transformers with pre-trained models like BERT, GPT.\n",
    "\n",
    "6. Model Training\n",
    "\n",
    "Split data into training and test sets.\n",
    "\n",
    "Train the model on the training data.\n",
    "Modeling: Scikit-learn, TensorFlow, PyTorch."
   ]
  },
  {
   "cell_type": "code",
   "execution_count": 83,
   "metadata": {},
   "outputs": [
    {
     "name": "stdout",
     "output_type": "stream",
     "text": [
      "Accuracy: 0.6679494227597581\n",
      "\n",
      "Classification Report:\n",
      "                                     precision    recall  f1-score   support\n",
      "\n",
      "                      I can't tell       0.10      0.04      0.05        27\n",
      "                  Negative emotion       0.55      0.24      0.33       121\n",
      "No emotion toward brand or product       0.71      0.80      0.75      1065\n",
      "                  Positive emotion       0.60      0.54      0.57       606\n",
      "\n",
      "                          accuracy                           0.67      1819\n",
      "                         macro avg       0.49      0.41      0.43      1819\n",
      "                      weighted avg       0.65      0.67      0.65      1819\n",
      "\n"
     ]
    }
   ],
   "source": [
    "\n",
    "from sklearn.pipeline import Pipeline\n",
    "from sklearn.linear_model import LogisticRegression\n",
    "from sklearn.model_selection import train_test_split\n",
    "from sklearn.metrics import classification_report, accuracy_score\n",
    "\n",
    "# use original DataFrame with 'tweet_content' and 'Emotion_result' columns\n",
    "\n",
    "# Split the dataset into features and target variable\n",
    "X = sentiments['tweet_content']  # Feature\n",
    "y = sentiments['Emotion_result']  # Target variable\n",
    "\n",
    "# Split the data into training and test sets\n",
    "X_train, X_test, y_train, y_test = train_test_split(X, y, test_size=0.2, random_state=42)\n",
    "\n",
    "# Create a pipeline with text preprocessing and logistic regression\n",
    "text_pipeline = Pipeline([\n",
    "    ('preprocessor', TextPreprocessor(use_stemming=False)),\n",
    "    ('vectorizer', CountVectorizer()),\n",
    "    ('classifier', LogisticRegression(max_iter=1000))  # Logistic Regression model\n",
    "])\n",
    "\n",
    "# Fit the model\n",
    "text_pipeline.fit(X_train, y_train)\n",
    "\n",
    "# Make predictions\n",
    "y_pred = text_pipeline.predict(X_test)\n",
    "\n",
    "# Evaluate the model\n",
    "print(\"Accuracy:\", accuracy_score(y_test, y_pred))\n",
    "print(\"\\nClassification Report:\\n\", classification_report(y_test, y_pred))\n"
   ]
  },
  {
   "cell_type": "code",
   "execution_count": 84,
   "metadata": {},
   "outputs": [
    {
     "data": {
      "image/png": "[encoded data removed]",
      "text/plain": [
       "<Figure size 432x288 with 2 Axes>"
      ]
     },
     "metadata": {
      "needs_background": "light"
     },
     "output_type": "display_data"
    }
   ],
   "source": [
    "import matplotlib.pyplot as plt\n",
    "from sklearn.metrics import confusion_matrix, ConfusionMatrixDisplay\n",
    "\n",
    "# Compute confusion matrix\n",
    "cm = confusion_matrix(y_test, y_pred, labels=text_pipeline.classes_)\n",
    "\n",
    "# Display confusion matrix\n",
    "disp = ConfusionMatrixDisplay(confusion_matrix=cm, display_labels=text_pipeline.classes_)\n",
    "disp.plot(cmap=plt.cm.Blues)\n",
    "plt.title('Confusion Matrix')\n",
    "plt.show()\n"
   ]
  },
  {
   "cell_type": "markdown",
   "metadata": {},
   "source": [
    "## Evaluation\n",
    "\n",
    "how well did your final model perform?"
   ]
  },
  {
   "cell_type": "markdown",
   "metadata": {},
   "source": [
    "Evaluate performance using metrics like accuracy, F1-score, precision, recall for classification tasks, or BLEU score for translation.\n",
    "Use a confusion matrix for classification tasks to assess true positives, false positives, etc.\n",
    "\n",
    "8. Tuning and Optimization\n",
    "Perform hyperparameter tuning using grid search or random search.\n",
    "Test different architectures for neural networks if applicable.\n",
    "\n",
    "9. Deployment\n",
    "Convert the model into a format ready for deployment, such as using APIs (Flask/Django), or directly integrating into an application.\n",
    "\n",
    "10. Documentation and Reporting\n",
    "Write thorough documentation about the project process, decisions, and model performance.\n",
    "\n",
    "Prepare visualizations of key findings, feature importance, and model metrics."
   ]
  },
  {
   "cell_type": "code",
   "execution_count": null,
   "metadata": {},
   "outputs": [],
   "source": []
  }
 ],
 "metadata": {
  "kernelspec": {
   "display_name": "learn-env",
   "language": "python",
   "name": "python3"
  },
  "language_info": {
   "codemirror_mode": {
    "name": "ipython",
    "version": 3
   },
   "file_extension": ".py",
   "mimetype": "text/x-python",
   "name": "python",
   "nbconvert_exporter": "python",
   "pygments_lexer": "ipython3",
   "version": "3.8.5"
  }
 },
 "nbformat": 4,
 "nbformat_minor": 2
}
